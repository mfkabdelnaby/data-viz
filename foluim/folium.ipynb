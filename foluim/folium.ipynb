{
 "cells": [
  {
   "cell_type": "markdown",
   "metadata": {
    "toc": true
   },
   "source": [
    "<h1>Table of Contents<span class=\"tocSkip\"></span></h1>\n",
    "<div class=\"toc\"><ul class=\"toc-item\"><li><span><a href=\"#Create-Map-Object\" data-toc-modified-id=\"Create-Map-Object-1\">Create Map Object</a></span></li><li><span><a href=\"#Create-Markers\" data-toc-modified-id=\"Create-Markers-2\">Create Markers</a></span><ul class=\"toc-item\"><li><span><a href=\"#Default-Marker\" data-toc-modified-id=\"Default-Marker-2.1\">Default Marker</a></span></li><li><span><a href=\"#Custom-Markers\" data-toc-modified-id=\"Custom-Markers-2.2\">Custom Markers</a></span><ul class=\"toc-item\"><li><span><a href=\"#Icon-Type\" data-toc-modified-id=\"Icon-Type-2.2.1\">Icon Type</a></span></li><li><span><a href=\"#Icon-color\" data-toc-modified-id=\"Icon-color-2.2.2\">Icon color</a></span></li><li><span><a href=\"#Circle-Markers\" data-toc-modified-id=\"Circle-Markers-2.2.3\">Circle Markers</a></span></li><li><span><a href=\"#USER-Markers\" data-toc-modified-id=\"USER-Markers-2.2.4\">USER Markers</a></span></li></ul></li></ul></li><li><span><a href=\"#Interactions\" data-toc-modified-id=\"Interactions-3\">Interactions</a></span><ul class=\"toc-item\"><li><span><a href=\"#Measure-Distance-on-Map\" data-toc-modified-id=\"Measure-Distance-on-Map-3.1\">Measure Distance on Map</a></span></li></ul></li><li><span><a href=\"#Display-&amp;-Generate-map-(HTML)\" data-toc-modified-id=\"Display-&amp;-Generate-map-(HTML)-4\">Display &amp; Generate map (HTML)</a></span><ul class=\"toc-item\"><li><span><a href=\"#Display-map\" data-toc-modified-id=\"Display-map-4.1\">Display map</a></span></li></ul></li></ul></div>"
   ]
  },
  {
   "cell_type": "code",
<<<<<<< HEAD
   "execution_count": 3,
   "metadata": {
    "scrolled": true
   },
   "outputs": [
    {
     "name": "stdout",
     "output_type": "stream",
     "text": [
      "Collecting folium\n",
      "  Using cached https://files.pythonhosted.org/packages/fd/a0/ccb3094026649cda4acd55bf2c3822bb8c277eb11446d13d384e5be35257/folium-0.10.1-py2.py3-none-any.whl\n",
      "Requirement already satisfied: requests in c:\\users\\user\\anaconda3\\lib\\site-packages (from folium) (2.21.0)\n",
      "Requirement already satisfied: numpy in c:\\users\\user\\anaconda3\\lib\\site-packages (from folium) (1.15.4)\n",
      "Requirement already satisfied: jinja2>=2.9 in c:\\users\\user\\anaconda3\\lib\\site-packages (from folium) (2.10)\n",
      "Collecting branca>=0.3.0 (from folium)\n",
      "  Using cached https://files.pythonhosted.org/packages/81/6d/31c83485189a2521a75b4130f1fee5364f772a0375f81afff619004e5237/branca-0.4.0-py3-none-any.whl\n",
      "Requirement already satisfied: urllib3<1.25,>=1.21.1 in c:\\users\\user\\anaconda3\\lib\\site-packages (from requests->folium) (1.24.1)\n",
      "Requirement already satisfied: chardet<3.1.0,>=3.0.2 in c:\\users\\user\\anaconda3\\lib\\site-packages (from requests->folium) (3.0.4)\n",
      "Requirement already satisfied: certifi>=2017.4.17 in c:\\users\\user\\anaconda3\\lib\\site-packages (from requests->folium) (2019.6.16)\n",
      "Requirement already satisfied: idna<2.9,>=2.5 in c:\\users\\user\\anaconda3\\lib\\site-packages (from requests->folium) (2.8)\n",
      "Requirement already satisfied: MarkupSafe>=0.23 in c:\\users\\user\\anaconda3\\lib\\site-packages (from jinja2>=2.9->folium) (1.1.0)\n",
      "Requirement already satisfied: six in c:\\users\\user\\anaconda3\\lib\\site-packages (from branca>=0.3.0->folium) (1.12.0)\n",
      "Installing collected packages: branca, folium\n",
      "Successfully installed branca-0.4.0 folium-0.10.1\n"
     ]
    }
   ],
   "source": [
    "!pip install folium"
=======
   "execution_count": 12,
   "metadata": {
    "scrolled": true
   },
   "outputs": [],
   "source": [
    "# !pip install folium"
>>>>>>> connect commit
   ]
  },
  {
   "cell_type": "code",
   "execution_count": 3,
   "metadata": {},
   "outputs": [],
   "source": [
    "import folium"
   ]
  },
  {
   "cell_type": "markdown",
   "metadata": {},
   "source": [
    "## Create Map Object"
   ]
  },
  {
   "cell_type": "code",
<<<<<<< HEAD
   "execution_count": 5,
=======
   "execution_count": 16,
>>>>>>> connect commit
   "metadata": {},
   "outputs": [],
   "source": [
    "# > Set the center using 'location' then the zoom\n",
    "m = folium.Map(location=[25.2709276,55.3207738], zoom_start=11)"
   ]
  },
  {
   "cell_type": "markdown",
   "metadata": {},
   "source": [
    "## Create Markers\n",
<<<<<<< HEAD
    "### Default Marker"
=======
    "### Default Marker\n",
    "\n",
    "\n",
    "* **`folium.Marker()`**\n",
    "    * **`coordinates1`**\n",
    "    * **`popup`** what you get when you press on Marker\n",
    "    * **`tooltip`** what you get when you pass over by mouse"
>>>>>>> connect commit
   ]
  },
  {
   "cell_type": "code",
<<<<<<< HEAD
   "execution_count": 14,
=======
   "execution_count": 17,
>>>>>>> connect commit
   "metadata": {},
   "outputs": [
    {
     "data": {
      "text/plain": [
<<<<<<< HEAD
       "<folium.map.Marker at 0x21b3e98a2e8>"
      ]
     },
     "execution_count": 14,
=======
       "<folium.map.Marker at 0x213af40a488>"
      ]
     },
     "execution_count": 17,
>>>>>>> connect commit
     "metadata": {},
     "output_type": "execute_result"
    }
   ],
   "source": [
    "# Global tooltip\n",
    "tooltip = 'Click For More Info'\n",
    "\n",
    "# Create markers\n",
    "folium.Marker([25.1977651,55.2794132],\n",
    "              popup='<strong>Dubai Mall</strong>',\n",
    "              tooltip= tooltip).add_to(m)"
   ]
  },
  {
   "cell_type": "markdown",
   "metadata": {},
   "source": [
    "### Custom Markers\n",
    "\n",
    "#### Icon Type\n",
    "\n",
<<<<<<< HEAD
=======
    "* **`icon`** specified by **`folium.Icon()`**\n",
    "\n",
>>>>>>> connect commit
    "See `Font-Awesome` website to choose yours. Warning : depending on the icon you choose you may need to adapt the `prefix= 'fa'`."
   ]
  },
  {
   "cell_type": "code",
<<<<<<< HEAD
   "execution_count": 20,
=======
   "execution_count": 18,
>>>>>>> connect commit
   "metadata": {},
   "outputs": [
    {
     "data": {
<<<<<<< HEAD
      "text/plain": [
       "<folium.map.Marker at 0x21b3e92e278>"
      ]
     },
     "execution_count": 20,
     "metadata": {},
     "output_type": "execute_result"
=======
      "text/html": [
       "<div style=\"width:100%;\"><div style=\"position:relative;width:100%;height:0;padding-bottom:60%;\"><iframe src=\"about:blank\" style=\"position:absolute;width:100%;height:100%;left:0;top:0;border:none !important;\" data-html=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 onload=\"this.contentDocument.open();this.contentDocument.write(atob(this.getAttribute('data-html')));this.contentDocument.close();\" allowfullscreen webkitallowfullscreen mozallowfullscreen></iframe></div></div>"
      ],
      "text/plain": [
       "<folium.folium.Map at 0x213af4188c8>"
      ]
     },
     "metadata": {},
     "output_type": "display_data"
>>>>>>> connect commit
    }
   ],
   "source": [
    "homeicon = folium.Icon(icon='home')\n",
    "\n",
    "folium.Marker([25.2155414,55.4062367],\n",
    "              popup='<strong>MCC</strong',\n",
    "              tooltip=tooltip,\n",
<<<<<<< HEAD
    "              icon=homeicon).add_to(m)"
=======
    "              icon=homeicon).add_to(m)\n",
    "\n",
    "display(m)"
>>>>>>> connect commit
   ]
  },
  {
   "cell_type": "markdown",
   "metadata": {},
   "source": [
<<<<<<< HEAD
    "#### Icon color"
=======
    "#### Icon color\n",
    "\n",
    "* Specified in **`folium.Icon()`**"
>>>>>>> connect commit
   ]
  },
  {
   "cell_type": "code",
<<<<<<< HEAD
   "execution_count": 23,
=======
   "execution_count": 10,
>>>>>>> connect commit
   "metadata": {},
   "outputs": [
    {
     "data": {
<<<<<<< HEAD
      "text/plain": [
       "<folium.map.Marker at 0x21b3ed00208>"
      ]
     },
     "execution_count": 23,
     "metadata": {},
     "output_type": "execute_result"
=======
      "text/html": [
       "<div style=\"width:100%;\"><div style=\"position:relative;width:100%;height:0;padding-bottom:60%;\"><iframe src=\"about:blank\" style=\"position:absolute;width:100%;height:100%;left:0;top:0;border:none !important;\" data-html=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 onload=\"this.contentDocument.open();this.contentDocument.write(atob(this.getAttribute('data-html')));this.contentDocument.close();\" allowfullscreen webkitallowfullscreen mozallowfullscreen></iframe></div></div>"
      ],
      "text/plain": [
       "<folium.folium.Map at 0x213af3a65c8>"
      ]
     },
     "metadata": {},
     "output_type": "display_data"
>>>>>>> connect commit
    }
   ],
   "source": [
    "redicon = folium.Icon(color='red')\n",
    "\n",
    "folium.Marker([25.3242232,55.3075988],\n",
    "              popup='<strong>Deira Islands</strong',\n",
    "              tooltip=tooltip,\n",
<<<<<<< HEAD
    "              icon=redicon).add_to(m)"
=======
    "              icon=redicon).add_to(m)\n",
    "\n",
    "display(m)"
>>>>>>> connect commit
   ]
  },
  {
   "cell_type": "markdown",
   "metadata": {},
   "source": [
<<<<<<< HEAD
    "#### Circle Markers"
=======
    "#### Circle Markers\n",
    "\n",
    "* **`folium.CircleMarker()`**"
>>>>>>> connect commit
   ]
  },
  {
   "cell_type": "code",
<<<<<<< HEAD
   "execution_count": 29,
=======
   "execution_count": 11,
>>>>>>> connect commit
   "metadata": {},
   "outputs": [
    {
     "data": {
<<<<<<< HEAD
      "text/plain": [
       "<folium.vector_layers.CircleMarker at 0x21b3f162470>"
      ]
     },
     "execution_count": 29,
     "metadata": {},
     "output_type": "execute_result"
=======
      "text/html": [
       "<div style=\"width:100%;\"><div style=\"position:relative;width:100%;height:0;padding-bottom:60%;\"><iframe src=\"about:blank\" style=\"position:absolute;width:100%;height:100%;left:0;top:0;border:none !important;\" data-html=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 onload=\"this.contentDocument.open();this.contentDocument.write(atob(this.getAttribute('data-html')));this.contentDocument.close();\" allowfullscreen webkitallowfullscreen mozallowfullscreen></iframe></div></div>"
      ],
      "text/plain": [
       "<folium.folium.Map at 0x213af3a65c8>"
      ]
     },
     "metadata": {},
     "output_type": "display_data"
>>>>>>> connect commit
    }
   ],
   "source": [
    "folium.CircleMarker(location=[25.2707270,55.3205951],\n",
    "                    radius=50,popup='Home',\n",
    "                    color='#428bca',\n",
<<<<<<< HEAD
    "                    fill=True).add_to(m)"
=======
    "                    fill=True).add_to(m)\n",
    "\n",
    "display(m)"
>>>>>>> connect commit
   ]
  },
  {
   "cell_type": "markdown",
   "metadata": {},
   "source": [
    "#### USER Markers\n"
   ]
  },
  {
   "cell_type": "code",
   "execution_count": 1,
   "metadata": {},
   "outputs": [],
   "source": [
    "# Let your users add marker with\n",
    "\n",
    "# markers = map.add_child(folium.ClickForMarker(popup=\"pop_up_name\"))"
   ]
  },
  {
   "cell_type": "markdown",
   "metadata": {},
   "source": [
    "-------------------------------"
   ]
  },
  {
   "cell_type": "markdown",
   "metadata": {},
   "source": [
    "## Interactions\n",
    "\n",
    "### Measure Distance on Map"
   ]
  },
  {
   "cell_type": "code",
<<<<<<< HEAD
   "execution_count": 4,
   "metadata": {
    "scrolled": false
   },
=======
   "execution_count": 22,
   "metadata": {},
>>>>>>> connect commit
   "outputs": [
    {
     "data": {
      "text/html": [
<<<<<<< HEAD
       "<div style=\"width:100%;\"><div style=\"position:relative;width:100%;height:0;padding-bottom:60%;\"><iframe src=\"about:blank\" style=\"position:absolute;width:100%;height:100%;left:0;top:0;border:none !important;\" data-html=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 onload=\"this.contentDocument.open();this.contentDocument.write(atob(this.getAttribute('data-html')));this.contentDocument.close();\" allowfullscreen webkitallowfullscreen mozallowfullscreen></iframe></div></div>"
      ],
      "text/plain": [
       "<folium.folium.Map at 0x1f20930f400>"
      ]
     },
     "execution_count": 4,
=======
       "<div style=\"width:100%;\"><div style=\"position:relative;width:100%;height:0;padding-bottom:60%;\"><iframe src=\"about:blank\" style=\"position:absolute;width:100%;height:100%;left:0;top:0;border:none !important;\" data-html=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 onload=\"this.contentDocument.open();this.contentDocument.write(atob(this.getAttribute('data-html')));this.contentDocument.close();\" allowfullscreen webkitallowfullscreen mozallowfullscreen></iframe></div></div>"
      ],
      "text/plain": [
       "<folium.folium.Map at 0x213af476508>"
      ]
     },
     "execution_count": 22,
>>>>>>> connect commit
     "metadata": {},
     "output_type": "execute_result"
    }
   ],
   "source": [
<<<<<<< HEAD
    "map_hooray = folium.Map(location=[51.5074, 0.1278],\n",
    "                    zoom_start = 11) # Uses lat then lon. The bigger the zoom number, the closer in you get\n",
=======
    "map_hooray = folium.Map(location=[25.2708365, 55.3205730],\n",
    "                    zoom_start = 15) # Uses lat then lon. The bigger the zoom number, the closer in you get\n",
>>>>>>> connect commit
    "\n",
    "from folium import plugins\n",
    "\n",
    "# Adds tool to the top right\n",
    "from folium.plugins import MeasureControl\n",
    "map_hooray.add_child(MeasureControl())\n",
    "\n",
<<<<<<< HEAD
    "# Fairly obvious I imagine - works best with transparent backgrounds\n",
    "from folium.plugins import FloatImage\n",
    "url = ('https://media.licdn.com/mpr/mpr/shrinknp_100_100/AAEAAQAAAAAAAAlgAAAAJGE3OTA4YTdlLTkzZjUtNDFjYy1iZThlLWQ5OTNkYzlhNzM4OQ.jpg')\n",
    "FloatImage(url, bottom=5, left=85).add_to(map_hooray)\n",
=======
>>>>>>> connect commit
    "\n",
    "map_hooray"
   ]
  },
  {
   "cell_type": "markdown",
   "metadata": {},
   "source": [
    "## Display & Generate map (HTML)\n",
    "\n",
    "### Display map"
   ]
  },
  {
   "cell_type": "code",
   "execution_count": 31,
   "metadata": {
    "scrolled": true
   },
   "outputs": [
    {
     "data": {
      "text/html": [
       "<div style=\"width:100%;\"><div style=\"position:relative;width:100%;height:0;padding-bottom:60%;\"><iframe src=\"about:blank\" style=\"position:absolute;width:100%;height:100%;left:0;top:0;border:none !important;\" data-html=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 onload=\"this.contentDocument.open();this.contentDocument.write(atob(this.getAttribute('data-html')));this.contentDocument.close();\" allowfullscreen webkitallowfullscreen mozallowfullscreen></iframe></div></div>"
      ],
      "text/plain": [
       "<folium.folium.Map at 0x21b3e505908>"
      ]
     },
     "metadata": {},
     "output_type": "display_data"
    }
   ],
   "source": [
    "display(m)"
   ]
  },
  {
   "cell_type": "code",
   "execution_count": 30,
   "metadata": {},
   "outputs": [],
   "source": [
    "m.save('map.html')"
   ]
  },
  {
   "cell_type": "code",
   "execution_count": null,
   "metadata": {},
   "outputs": [],
   "source": []
  }
 ],
 "metadata": {
  "kernelspec": {
   "display_name": "Python 3",
   "language": "python",
   "name": "python3"
  },
  "language_info": {
   "codemirror_mode": {
    "name": "ipython",
    "version": 3
   },
   "file_extension": ".py",
   "mimetype": "text/x-python",
   "name": "python",
   "nbconvert_exporter": "python",
   "pygments_lexer": "ipython3",
<<<<<<< HEAD
   "version": "3.7.1"
=======
   "version": "3.7.6"
>>>>>>> connect commit
  },
  "toc": {
   "base_numbering": 1,
   "nav_menu": {},
   "number_sections": false,
   "sideBar": true,
   "skip_h1_title": false,
   "title_cell": "Table of Contents",
   "title_sidebar": "Contents",
   "toc_cell": true,
   "toc_position": {},
   "toc_section_display": true,
   "toc_window_display": false
  },
  "varInspector": {
   "cols": {
    "lenName": 16,
    "lenType": 16,
    "lenVar": 40
   },
   "kernels_config": {
    "python": {
     "delete_cmd_postfix": "",
     "delete_cmd_prefix": "del ",
     "library": "var_list.py",
     "varRefreshCmd": "print(var_dic_list())"
    },
    "r": {
     "delete_cmd_postfix": ") ",
     "delete_cmd_prefix": "rm(",
     "library": "var_list.r",
     "varRefreshCmd": "cat(var_dic_list()) "
    }
   },
   "types_to_exclude": [
    "module",
    "function",
    "builtin_function_or_method",
    "instance",
    "_Feature"
   ],
   "window_display": false
  }
 },
 "nbformat": 4,
<<<<<<< HEAD
 "nbformat_minor": 2
=======
 "nbformat_minor": 4
>>>>>>> connect commit
}
